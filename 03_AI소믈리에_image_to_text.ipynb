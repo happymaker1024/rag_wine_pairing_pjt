{
 "cells": [
  {
   "cell_type": "markdown",
   "id": "abb14866",
   "metadata": {},
   "source": [
    "# LLM을 활용한 image to text 처리"
   ]
  },
  {
   "cell_type": "code",
   "execution_count": 1,
   "id": "fb60445d",
   "metadata": {},
   "outputs": [],
   "source": [
    "from dotenv import load_dotenv\n",
    "import os\n",
    "\n",
    "load_dotenv(override=True)\n",
    "\n",
    "OPENAI_API_KEY = os.getenv(\"OPENAI_API_KEY\")\n"
   ]
  },
  {
   "cell_type": "markdown",
   "id": "26678920",
   "metadata": {},
   "source": [
    "- image to text"
   ]
  },
  {
   "cell_type": "code",
   "execution_count": null,
   "id": "3414126b",
   "metadata": {},
   "outputs": [
    {
     "ename": "TypeError",
     "evalue": "Missing required arguments; Expected either ('messages' and 'model') or ('messages', 'model' and 'stream') arguments to be given",
     "output_type": "error",
     "traceback": [
      "\u001b[1;31m---------------------------------------------------------------------------\u001b[0m",
      "\u001b[1;31mTypeError\u001b[0m                                 Traceback (most recent call last)",
      "Cell \u001b[1;32mIn[2], line 5\u001b[0m\n\u001b[0;32m      2\u001b[0m client \u001b[38;5;241m=\u001b[39m OpenAI(api_key\u001b[38;5;241m=\u001b[39mOPENAI_API_KEY)\n\u001b[0;32m      4\u001b[0m \u001b[38;5;66;03m# response = client.responses.create(\u001b[39;00m\n\u001b[1;32m----> 5\u001b[0m response \u001b[38;5;241m=\u001b[39m \u001b[43mclient\u001b[49m\u001b[38;5;241;43m.\u001b[39;49m\u001b[43mchat\u001b[49m\u001b[38;5;241;43m.\u001b[39;49m\u001b[43mcompletions\u001b[49m\u001b[38;5;241;43m.\u001b[39;49m\u001b[43mcreate\u001b[49m\u001b[43m(\u001b[49m\n\u001b[0;32m      6\u001b[0m \u001b[43m  \u001b[49m\u001b[43mmodel\u001b[49m\u001b[38;5;241;43m=\u001b[39;49m\u001b[38;5;124;43m\"\u001b[39;49m\u001b[38;5;124;43mgpt-4o\u001b[39;49m\u001b[38;5;124;43m\"\u001b[39;49m\u001b[43m,\u001b[49m\n\u001b[0;32m      7\u001b[0m \u001b[43m  \u001b[49m\u001b[38;5;66;43;03m# model=\"gpt-4.1\",\u001b[39;49;00m\n\u001b[0;32m      8\u001b[0m \u001b[43m  \u001b[49m\u001b[38;5;28;43minput\u001b[39;49m\u001b[38;5;241;43m=\u001b[39;49m\u001b[43m[\u001b[49m\n\u001b[0;32m      9\u001b[0m \u001b[43m    \u001b[49m\u001b[43m{\u001b[49m\n\u001b[0;32m     10\u001b[0m \u001b[43m      \u001b[49m\u001b[38;5;124;43m\"\u001b[39;49m\u001b[38;5;124;43mrole\u001b[39;49m\u001b[38;5;124;43m\"\u001b[39;49m\u001b[43m:\u001b[49m\u001b[43m \u001b[49m\u001b[38;5;124;43m\"\u001b[39;49m\u001b[38;5;124;43msystem\u001b[39;49m\u001b[38;5;124;43m\"\u001b[39;49m\u001b[43m,\u001b[49m\n\u001b[0;32m     11\u001b[0m \u001b[43m      \u001b[49m\u001b[38;5;124;43m\"\u001b[39;49m\u001b[38;5;124;43mcontent\u001b[39;49m\u001b[38;5;124;43m\"\u001b[39;49m\u001b[43m:\u001b[49m\u001b[43m \u001b[49m\u001b[43m[\u001b[49m\n\u001b[0;32m     12\u001b[0m \u001b[43m        \u001b[49m\u001b[43m{\u001b[49m\n\u001b[0;32m     13\u001b[0m \u001b[43m          \u001b[49m\u001b[38;5;124;43m\"\u001b[39;49m\u001b[38;5;124;43mtype\u001b[39;49m\u001b[38;5;124;43m\"\u001b[39;49m\u001b[43m:\u001b[49m\u001b[43m \u001b[49m\u001b[38;5;124;43m\"\u001b[39;49m\u001b[38;5;124;43minput_text\u001b[39;49m\u001b[38;5;124;43m\"\u001b[39;49m\u001b[43m,\u001b[49m\n\u001b[0;32m     14\u001b[0m \u001b[43m          \u001b[49m\u001b[38;5;124;43m\"\u001b[39;49m\u001b[38;5;124;43mtext\u001b[39;49m\u001b[38;5;124;43m\"\u001b[39;49m\u001b[43m:\u001b[49m\u001b[43m \u001b[49m\u001b[38;5;124;43m\"\u001b[39;49m\u001b[38;5;124;43mPersona:\u001b[39;49m\u001b[38;5;130;43;01m\\n\u001b[39;49;00m\u001b[38;5;124;43mYou are a professional wine sommelier named \u001b[39;49m\u001b[38;5;130;43;01m\\\"\u001b[39;49;00m\u001b[38;5;124;43mThe Master Sommelier.\u001b[39;49m\u001b[38;5;130;43;01m\\\"\u001b[39;49;00m\u001b[38;5;124;43m You have extensive knowledge of global wines, food pairing principles, tasting techniques, and wine service etiquette. You are both an educator and a guide, able to adapt your explanations for beginners and wine experts alike.\u001b[39;49m\u001b[38;5;130;43;01m\\n\u001b[39;49;00m\u001b[38;5;130;43;01m\\n\u001b[39;49;00m\u001b[38;5;124;43mRole:\u001b[39;49m\u001b[38;5;130;43;01m\\n\u001b[39;49;00m\u001b[38;5;124;43mYour role is to provide thoughtful, accurate, and sensory-rich wine recommendations and explanations. Whether someone is asking for the right wine to pair with a dish, or wanting to understand tasting notes or varietal differences, you offer refined, yet accessible guidance. You use a warm, confident, and elegant tone in every interaction.\u001b[39;49m\u001b[38;5;130;43;01m\\n\u001b[39;49;00m\u001b[38;5;130;43;01m\\n\u001b[39;49;00m\u001b[38;5;124;43mCapabilities:\u001b[39;49m\u001b[38;5;130;43;01m\\n\u001b[39;49;00m\u001b[38;5;130;43;01m\\n\u001b[39;49;00m\u001b[38;5;124;43mRecommend wine pairings based on dish type, ingredients, preparation, and occasion\u001b[39;49m\u001b[38;5;130;43;01m\\n\u001b[39;49;00m\u001b[38;5;130;43;01m\\n\u001b[39;49;00m\u001b[38;5;124;43mBreak down wine tasting notes: aroma, palate, body, acidity, tannins, finish\u001b[39;49m\u001b[38;5;130;43;01m\\n\u001b[39;49;00m\u001b[38;5;130;43;01m\\n\u001b[39;49;00m\u001b[38;5;124;43mCompare wine varietals, styles, and regions with clarity and nuance\u001b[39;49m\u001b[38;5;130;43;01m\\n\u001b[39;49;00m\u001b[38;5;130;43;01m\\n\u001b[39;49;00m\u001b[38;5;124;43mSuggest ideal serving temperature, glassware, or decanting method\u001b[39;49m\u001b[38;5;130;43;01m\\n\u001b[39;49;00m\u001b[38;5;130;43;01m\\n\u001b[39;49;00m\u001b[38;5;124;43mAdapt communication style based on the user\u001b[39;49m\u001b[38;5;124;43m'\u001b[39;49m\u001b[38;5;124;43ms experience level\u001b[39;49m\u001b[38;5;130;43;01m\\n\u001b[39;49;00m\u001b[38;5;130;43;01m\\n\u001b[39;49;00m\u001b[38;5;124;43mConstraints:\u001b[39;49m\u001b[38;5;130;43;01m\\n\u001b[39;49;00m\u001b[38;5;124;43mAvoid overly technical jargon unless requested. Keep language elegant yet easy to understand. Promote curiosity and enjoyment of wine, not intimidation.\u001b[39;49m\u001b[38;5;124;43m\"\u001b[39;49m\n\u001b[0;32m     15\u001b[0m \u001b[43m        \u001b[49m\u001b[43m}\u001b[49m\n\u001b[0;32m     16\u001b[0m \u001b[43m      \u001b[49m\u001b[43m]\u001b[49m\n\u001b[0;32m     17\u001b[0m \u001b[43m    \u001b[49m\u001b[43m}\u001b[49m\u001b[43m,\u001b[49m\n\u001b[0;32m     18\u001b[0m \u001b[43m    \u001b[49m\u001b[43m{\u001b[49m\n\u001b[0;32m     19\u001b[0m \u001b[43m      \u001b[49m\u001b[38;5;124;43m\"\u001b[39;49m\u001b[38;5;124;43mrole\u001b[39;49m\u001b[38;5;124;43m\"\u001b[39;49m\u001b[43m:\u001b[49m\u001b[43m \u001b[49m\u001b[38;5;124;43m\"\u001b[39;49m\u001b[38;5;124;43muser\u001b[39;49m\u001b[38;5;124;43m\"\u001b[39;49m\u001b[43m,\u001b[49m\n\u001b[0;32m     20\u001b[0m \u001b[43m      \u001b[49m\u001b[38;5;124;43m\"\u001b[39;49m\u001b[38;5;124;43mcontent\u001b[39;49m\u001b[38;5;124;43m\"\u001b[39;49m\u001b[43m:\u001b[49m\u001b[43m \u001b[49m\u001b[43m[\u001b[49m\n\u001b[0;32m     21\u001b[0m \u001b[43m        \u001b[49m\u001b[43m{\u001b[49m\n\u001b[0;32m     22\u001b[0m \u001b[43m          \u001b[49m\u001b[38;5;124;43m\"\u001b[39;49m\u001b[38;5;124;43mtype\u001b[39;49m\u001b[38;5;124;43m\"\u001b[39;49m\u001b[43m:\u001b[49m\u001b[43m \u001b[49m\u001b[38;5;124;43m\"\u001b[39;49m\u001b[38;5;124;43minput_text\u001b[39;49m\u001b[38;5;124;43m\"\u001b[39;49m\u001b[43m,\u001b[49m\n\u001b[0;32m     23\u001b[0m \u001b[43m          \u001b[49m\u001b[38;5;124;43m\"\u001b[39;49m\u001b[38;5;124;43mtext\u001b[39;49m\u001b[38;5;124;43m\"\u001b[39;49m\u001b[43m:\u001b[49m\u001b[43m \u001b[49m\u001b[38;5;124;43m\"\u001b[39;49m\u001b[38;5;124;43m이 와인을 간단하게 설명하고, 이 와인에 어울리는 요리를 추천해줘\u001b[39;49m\u001b[38;5;124;43m\"\u001b[39;49m\n\u001b[0;32m     24\u001b[0m \u001b[43m        \u001b[49m\u001b[43m}\u001b[49m\u001b[43m,\u001b[49m\n\u001b[0;32m     25\u001b[0m \u001b[43m        \u001b[49m\u001b[43m{\u001b[49m\n\u001b[0;32m     26\u001b[0m \u001b[43m          \u001b[49m\u001b[38;5;124;43m\"\u001b[39;49m\u001b[38;5;124;43mtype\u001b[39;49m\u001b[38;5;124;43m\"\u001b[39;49m\u001b[43m:\u001b[49m\u001b[43m \u001b[49m\u001b[38;5;124;43m\"\u001b[39;49m\u001b[38;5;124;43minput_image\u001b[39;49m\u001b[38;5;124;43m\"\u001b[39;49m\u001b[43m,\u001b[49m\n\u001b[0;32m     27\u001b[0m \u001b[43m          \u001b[49m\u001b[38;5;124;43m\"\u001b[39;49m\u001b[38;5;124;43mimage_url\u001b[39;49m\u001b[38;5;124;43m\"\u001b[39;49m\u001b[43m:\u001b[49m\u001b[43m \u001b[49m\u001b[38;5;124;43m\"\u001b[39;49m\u001b[38;5;124;43mhttps://images.vivino.com/thumbs/iE_y2NRLSWKWw--znVRE3Q_pb_x960.png\u001b[39;49m\u001b[38;5;124;43m\"\u001b[39;49m\n\u001b[0;32m     28\u001b[0m \u001b[43m        \u001b[49m\u001b[43m}\u001b[49m\n\u001b[0;32m     29\u001b[0m \u001b[43m      \u001b[49m\u001b[43m]\u001b[49m\n\u001b[0;32m     30\u001b[0m \u001b[43m    \u001b[49m\u001b[43m}\u001b[49m\u001b[43m,\u001b[49m\n\u001b[0;32m     31\u001b[0m \u001b[43m    \u001b[49m\u001b[43m{\u001b[49m\n\u001b[0;32m     32\u001b[0m \u001b[43m      \u001b[49m\u001b[38;5;124;43m\"\u001b[39;49m\u001b[38;5;124;43mrole\u001b[39;49m\u001b[38;5;124;43m\"\u001b[39;49m\u001b[43m:\u001b[49m\u001b[43m \u001b[49m\u001b[38;5;124;43m\"\u001b[39;49m\u001b[38;5;124;43muser\u001b[39;49m\u001b[38;5;124;43m\"\u001b[39;49m\u001b[43m,\u001b[49m\n\u001b[0;32m     33\u001b[0m \u001b[43m      \u001b[49m\u001b[38;5;124;43m\"\u001b[39;49m\u001b[38;5;124;43mcontent\u001b[39;49m\u001b[38;5;124;43m\"\u001b[39;49m\u001b[43m:\u001b[49m\u001b[43m \u001b[49m\u001b[43m[\u001b[49m\n\u001b[0;32m     34\u001b[0m \u001b[43m        \u001b[49m\u001b[43m{\u001b[49m\n\u001b[0;32m     35\u001b[0m \u001b[43m          \u001b[49m\u001b[38;5;124;43m\"\u001b[39;49m\u001b[38;5;124;43mtype\u001b[39;49m\u001b[38;5;124;43m\"\u001b[39;49m\u001b[43m:\u001b[49m\u001b[43m \u001b[49m\u001b[38;5;124;43m\"\u001b[39;49m\u001b[38;5;124;43minput_text\u001b[39;49m\u001b[38;5;124;43m\"\u001b[39;49m\u001b[43m,\u001b[49m\n\u001b[0;32m     36\u001b[0m \u001b[43m          \u001b[49m\u001b[38;5;124;43m\"\u001b[39;49m\u001b[38;5;124;43mtext\u001b[39;49m\u001b[38;5;124;43m\"\u001b[39;49m\u001b[43m:\u001b[49m\u001b[43m \u001b[49m\u001b[38;5;124;43m\"\u001b[39;49m\u001b[38;5;124;43m첨부한 이미지의 와인에 어울리는 요리를 추천해 주세요.\u001b[39;49m\u001b[38;5;124;43m\"\u001b[39;49m\n\u001b[0;32m     37\u001b[0m \u001b[43m        \u001b[49m\u001b[43m}\u001b[49m\n\u001b[0;32m     38\u001b[0m \u001b[43m      \u001b[49m\u001b[43m]\u001b[49m\n\u001b[0;32m     39\u001b[0m \u001b[43m    \u001b[49m\u001b[43m}\u001b[49m\n\u001b[0;32m     40\u001b[0m \u001b[43m  \u001b[49m\u001b[43m]\u001b[49m\u001b[43m,\u001b[49m\n\u001b[0;32m     41\u001b[0m \u001b[43m  \u001b[49m\u001b[43mtext\u001b[49m\u001b[38;5;241;43m=\u001b[39;49m\u001b[43m{\u001b[49m\n\u001b[0;32m     42\u001b[0m \u001b[43m    \u001b[49m\u001b[38;5;124;43m\"\u001b[39;49m\u001b[38;5;124;43mformat\u001b[39;49m\u001b[38;5;124;43m\"\u001b[39;49m\u001b[43m:\u001b[49m\u001b[43m \u001b[49m\u001b[43m{\u001b[49m\n\u001b[0;32m     43\u001b[0m \u001b[43m      \u001b[49m\u001b[38;5;124;43m\"\u001b[39;49m\u001b[38;5;124;43mtype\u001b[39;49m\u001b[38;5;124;43m\"\u001b[39;49m\u001b[43m:\u001b[49m\u001b[43m \u001b[49m\u001b[38;5;124;43m\"\u001b[39;49m\u001b[38;5;124;43mtext\u001b[39;49m\u001b[38;5;124;43m\"\u001b[39;49m\n\u001b[0;32m     44\u001b[0m \u001b[43m    \u001b[49m\u001b[43m}\u001b[49m\n\u001b[0;32m     45\u001b[0m \u001b[43m  \u001b[49m\u001b[43m}\u001b[49m\u001b[43m,\u001b[49m\n\u001b[0;32m     46\u001b[0m \u001b[43m  \u001b[49m\u001b[43mreasoning\u001b[49m\u001b[38;5;241;43m=\u001b[39;49m\u001b[43m{\u001b[49m\u001b[43m}\u001b[49m\u001b[43m,\u001b[49m\n\u001b[0;32m     47\u001b[0m \u001b[43m  \u001b[49m\u001b[43mtools\u001b[49m\u001b[38;5;241;43m=\u001b[39;49m\u001b[43m[\u001b[49m\u001b[43m]\u001b[49m\u001b[43m,\u001b[49m\n\u001b[0;32m     48\u001b[0m \u001b[43m  \u001b[49m\u001b[43mtemperature\u001b[49m\u001b[38;5;241;43m=\u001b[39;49m\u001b[38;5;241;43m1\u001b[39;49m\u001b[43m,\u001b[49m\n\u001b[0;32m     49\u001b[0m \u001b[43m  \u001b[49m\u001b[43mmax_output_tokens\u001b[49m\u001b[38;5;241;43m=\u001b[39;49m\u001b[38;5;241;43m2048\u001b[39;49m\u001b[43m,\u001b[49m\n\u001b[0;32m     50\u001b[0m \u001b[43m  \u001b[49m\u001b[43mtop_p\u001b[49m\u001b[38;5;241;43m=\u001b[39;49m\u001b[38;5;241;43m1\u001b[39;49m\u001b[43m,\u001b[49m\n\u001b[0;32m     51\u001b[0m \u001b[43m  \u001b[49m\u001b[43mstore\u001b[49m\u001b[38;5;241;43m=\u001b[39;49m\u001b[38;5;28;43;01mTrue\u001b[39;49;00m\n\u001b[0;32m     52\u001b[0m \u001b[43m)\u001b[49m\n",
      "File \u001b[1;32mc:\\Users\\Admin\\miniconda3\\envs\\lc_env\\Lib\\site-packages\\openai\\_utils\\_utils.py:286\u001b[0m, in \u001b[0;36mrequired_args.<locals>.inner.<locals>.wrapper\u001b[1;34m(*args, **kwargs)\u001b[0m\n\u001b[0;32m    284\u001b[0m         \u001b[38;5;28;01melse\u001b[39;00m:\n\u001b[0;32m    285\u001b[0m             msg \u001b[38;5;241m=\u001b[39m \u001b[38;5;124mf\u001b[39m\u001b[38;5;124m\"\u001b[39m\u001b[38;5;124mMissing required argument: \u001b[39m\u001b[38;5;132;01m{\u001b[39;00mquote(missing[\u001b[38;5;241m0\u001b[39m])\u001b[38;5;132;01m}\u001b[39;00m\u001b[38;5;124m\"\u001b[39m\n\u001b[1;32m--> 286\u001b[0m     \u001b[38;5;28;01mraise\u001b[39;00m \u001b[38;5;167;01mTypeError\u001b[39;00m(msg)\n\u001b[0;32m    287\u001b[0m \u001b[38;5;28;01mreturn\u001b[39;00m func(\u001b[38;5;241m*\u001b[39margs, \u001b[38;5;241m*\u001b[39m\u001b[38;5;241m*\u001b[39mkwargs)\n",
      "\u001b[1;31mTypeError\u001b[0m: Missing required arguments; Expected either ('messages' and 'model') or ('messages', 'model' and 'stream') arguments to be given"
     ]
    }
   ],
   "source": [
    "from openai import OpenAI\n",
    "client = OpenAI(api_key=OPENAI_API_KEY)\n",
    "\n",
    "response = client.resposes.create(\n",
    "  model=\"gpt-4o\",\n",
    "  # model=\"gpt-4.1\",\n",
    "  input=[\n",
    "    {\n",
    "      \"role\": \"system\",\n",
    "      \"content\": [\n",
    "        {\n",
    "          \"type\": \"input_text\",\n",
    "          \"text\": \"Persona:\\nYou are a professional wine sommelier named \\\"The Master Sommelier.\\\" You have extensive knowledge of global wines, food pairing principles, tasting techniques, and wine service etiquette. You are both an educator and a guide, able to adapt your explanations for beginners and wine experts alike.\\n\\nRole:\\nYour role is to provide thoughtful, accurate, and sensory-rich wine recommendations and explanations. Whether someone is asking for the right wine to pair with a dish, or wanting to understand tasting notes or varietal differences, you offer refined, yet accessible guidance. You use a warm, confident, and elegant tone in every interaction.\\n\\nCapabilities:\\n\\nRecommend wine pairings based on dish type, ingredients, preparation, and occasion\\n\\nBreak down wine tasting notes: aroma, palate, body, acidity, tannins, finish\\n\\nCompare wine varietals, styles, and regions with clarity and nuance\\n\\nSuggest ideal serving temperature, glassware, or decanting method\\n\\nAdapt communication style based on the user's experience level\\n\\nConstraints:\\nAvoid overly technical jargon unless requested. Keep language elegant yet easy to understand. Promote curiosity and enjoyment of wine, not intimidation.\"\n",
    "        }\n",
    "      ]\n",
    "    },\n",
    "    {\n",
    "      \"role\": \"user\",\n",
    "      \"content\": [\n",
    "        {\n",
    "          \"type\": \"input_text\",\n",
    "          \"text\": \"이 와인을 간단하게 설명하고, 이 와인에 어울리는 요리를 추천해줘\"\n",
    "        },\n",
    "        {\n",
    "          \"type\": \"input_image\",\n",
    "          \"image_url\": \"https://images.vivino.com/thumbs/iE_y2NRLSWKWw--znVRE3Q_pb_x960.png\"\n",
    "        }\n",
    "      ]\n",
    "    },\n",
    "    {\n",
    "      \"role\": \"user\",\n",
    "      \"content\": [\n",
    "        {\n",
    "          \"type\": \"input_text\",\n",
    "          \"text\": \"첨부한 이미지의 와인에 어울리는 요리를 추천해 주세요.\"\n",
    "        }\n",
    "      ]\n",
    "    }\n",
    "  ],\n",
    "  text={\n",
    "    \"format\": {\n",
    "      \"type\": \"text\"\n",
    "    }\n",
    "  },\n",
    "  reasoning={},\n",
    "  tools=[],\n",
    "  temperature=1,\n",
    "  max_output_tokens=2048,\n",
    "  top_p=1,\n",
    "  store=True\n",
    ")"
   ]
  },
  {
   "cell_type": "code",
   "execution_count": 3,
   "id": "c17c64da-7449-48a1-81df-a81242dcbb9e",
   "metadata": {},
   "outputs": [
    {
     "name": "stdout",
     "output_type": "stream",
     "text": [
      "이 와인은 독일 라인헤센 지역의 드라이 리슬링입니다. 신선하고 활기찬 산미를 가지고 있으며, 녹사과, 시트러스, 미네랄리티의 후각적 풍미가 느껴질 것입니다. 깔끔하고 산뜻한 피니시로 완성되는 매력적인 와인입니다.\n",
      "\n",
      "이런 스타일의 리슬링에는 다음과 같은 요리가 잘 어울립니다:\n",
      "\n",
      "1. 해산물 요리: 특히 굴이나 새우 같은 신선한 해산물.\n",
      "2. 아시아 음식: 섬세한 향신료를 사용한 태국식이나 베트남식 요리.\n",
      "3. 치즈 요리: 부드러운 염소 치즈나 브리 치즈.\n",
      "4. 흰 살 생선: 구운 생선이나 가벼운 소스와 함께 제공되는 생선 요리.\n",
      "\n",
      "즐겁게 시음하시길 바랍니다!\n"
     ]
    }
   ],
   "source": [
    "print(response.output[0].content[0].text)"
   ]
  },
  {
   "cell_type": "code",
   "execution_count": 21,
   "id": "12c637ac-c1d5-4f53-ba34-8a7b42ce3cd8",
   "metadata": {},
   "outputs": [
    {
     "ename": "TypeError",
     "evalue": "Missing required arguments; Expected either ('messages' and 'model') or ('messages', 'model' and 'stream') arguments to be given",
     "output_type": "error",
     "traceback": [
      "\u001b[1;31m---------------------------------------------------------------------------\u001b[0m",
      "\u001b[1;31mTypeError\u001b[0m                                 Traceback (most recent call last)",
      "Cell \u001b[1;32mIn[21], line 5\u001b[0m\n\u001b[0;32m      2\u001b[0m client \u001b[38;5;241m=\u001b[39m OpenAI(api_key\u001b[38;5;241m=\u001b[39mOPENAI_API_KEY)\n\u001b[0;32m      4\u001b[0m \u001b[38;5;66;03m# response = client.responses.create(\u001b[39;00m\n\u001b[1;32m----> 5\u001b[0m response \u001b[38;5;241m=\u001b[39m \u001b[43mclient\u001b[49m\u001b[38;5;241;43m.\u001b[39;49m\u001b[43mchat\u001b[49m\u001b[38;5;241;43m.\u001b[39;49m\u001b[43mcompletions\u001b[49m\u001b[38;5;241;43m.\u001b[39;49m\u001b[43mcreate\u001b[49m\u001b[43m(\u001b[49m\n\u001b[0;32m      6\u001b[0m \u001b[43m  \u001b[49m\u001b[38;5;66;43;03m# model=\"gpt-4o\",\u001b[39;49;00m\n\u001b[0;32m      7\u001b[0m \u001b[43m  \u001b[49m\u001b[43mmodel\u001b[49m\u001b[38;5;241;43m=\u001b[39;49m\u001b[38;5;124;43m\"\u001b[39;49m\u001b[38;5;124;43mgpt-4.1\u001b[39;49m\u001b[38;5;124;43m\"\u001b[39;49m\u001b[43m,\u001b[49m\n\u001b[0;32m      8\u001b[0m \u001b[43m  \u001b[49m\u001b[38;5;28;43minput\u001b[39;49m\u001b[38;5;241;43m=\u001b[39;49m\u001b[43m[\u001b[49m\n\u001b[0;32m      9\u001b[0m \u001b[43m    \u001b[49m\u001b[43m{\u001b[49m\n\u001b[0;32m     10\u001b[0m \u001b[43m      \u001b[49m\u001b[38;5;124;43m\"\u001b[39;49m\u001b[38;5;124;43mrole\u001b[39;49m\u001b[38;5;124;43m\"\u001b[39;49m\u001b[43m:\u001b[49m\u001b[43m \u001b[49m\u001b[38;5;124;43m\"\u001b[39;49m\u001b[38;5;124;43msystem\u001b[39;49m\u001b[38;5;124;43m\"\u001b[39;49m\u001b[43m,\u001b[49m\n\u001b[0;32m     11\u001b[0m \u001b[43m      \u001b[49m\u001b[38;5;124;43m\"\u001b[39;49m\u001b[38;5;124;43mcontent\u001b[39;49m\u001b[38;5;124;43m\"\u001b[39;49m\u001b[43m:\u001b[49m\u001b[43m \u001b[49m\u001b[43m[\u001b[49m\n\u001b[0;32m     12\u001b[0m \u001b[43m        \u001b[49m\u001b[43m{\u001b[49m\n\u001b[0;32m     13\u001b[0m \u001b[43m          \u001b[49m\u001b[38;5;124;43m\"\u001b[39;49m\u001b[38;5;124;43mtype\u001b[39;49m\u001b[38;5;124;43m\"\u001b[39;49m\u001b[43m:\u001b[49m\u001b[43m \u001b[49m\u001b[38;5;124;43m\"\u001b[39;49m\u001b[38;5;124;43minput_text\u001b[39;49m\u001b[38;5;124;43m\"\u001b[39;49m\u001b[43m,\u001b[49m\n\u001b[0;32m     14\u001b[0m \u001b[43m          \u001b[49m\u001b[38;5;124;43m\"\u001b[39;49m\u001b[38;5;124;43mtext\u001b[39;49m\u001b[38;5;124;43m\"\u001b[39;49m\u001b[43m:\u001b[49m\u001b[43m \u001b[49m\u001b[38;5;124;43m\"\u001b[39;49m\u001b[38;5;124;43mPersona:\u001b[39;49m\u001b[38;5;130;43;01m\\n\u001b[39;49;00m\u001b[38;5;124;43mYou are a professional wine sommelier named \u001b[39;49m\u001b[38;5;130;43;01m\\\"\u001b[39;49;00m\u001b[38;5;124;43mThe Master Sommelier.\u001b[39;49m\u001b[38;5;130;43;01m\\\"\u001b[39;49;00m\u001b[38;5;124;43m You have extensive knowledge of global wines, food pairing principles, tasting techniques, and wine service etiquette. You are both an educator and a guide, able to adapt your explanations for beginners and wine experts alike.\u001b[39;49m\u001b[38;5;130;43;01m\\n\u001b[39;49;00m\u001b[38;5;130;43;01m\\n\u001b[39;49;00m\u001b[38;5;124;43mRole:\u001b[39;49m\u001b[38;5;130;43;01m\\n\u001b[39;49;00m\u001b[38;5;124;43mYour role is to provide thoughtful, accurate, and sensory-rich wine recommendations and explanations. Whether someone is asking for the right wine to pair with a dish, or wanting to understand tasting notes or varietal differences, you offer refined, yet accessible guidance. You use a warm, confident, and elegant tone in every interaction.\u001b[39;49m\u001b[38;5;130;43;01m\\n\u001b[39;49;00m\u001b[38;5;130;43;01m\\n\u001b[39;49;00m\u001b[38;5;124;43mCapabilities:\u001b[39;49m\u001b[38;5;130;43;01m\\n\u001b[39;49;00m\u001b[38;5;130;43;01m\\n\u001b[39;49;00m\u001b[38;5;124;43mRecommend wine pairings based on dish type, ingredients, preparation, and occasion\u001b[39;49m\u001b[38;5;130;43;01m\\n\u001b[39;49;00m\u001b[38;5;130;43;01m\\n\u001b[39;49;00m\u001b[38;5;124;43mBreak down wine tasting notes: aroma, palate, body, acidity, tannins, finish\u001b[39;49m\u001b[38;5;130;43;01m\\n\u001b[39;49;00m\u001b[38;5;130;43;01m\\n\u001b[39;49;00m\u001b[38;5;124;43mCompare wine varietals, styles, and regions with clarity and nuance\u001b[39;49m\u001b[38;5;130;43;01m\\n\u001b[39;49;00m\u001b[38;5;130;43;01m\\n\u001b[39;49;00m\u001b[38;5;124;43mSuggest ideal serving temperature, glassware, or decanting method\u001b[39;49m\u001b[38;5;130;43;01m\\n\u001b[39;49;00m\u001b[38;5;130;43;01m\\n\u001b[39;49;00m\u001b[38;5;124;43mAdapt communication style based on the user\u001b[39;49m\u001b[38;5;124;43m'\u001b[39;49m\u001b[38;5;124;43ms experience level\u001b[39;49m\u001b[38;5;130;43;01m\\n\u001b[39;49;00m\u001b[38;5;130;43;01m\\n\u001b[39;49;00m\u001b[38;5;124;43mConstraints:\u001b[39;49m\u001b[38;5;130;43;01m\\n\u001b[39;49;00m\u001b[38;5;124;43mAvoid overly technical jargon unless requested. Keep language elegant yet easy to understand. Promote curiosity and enjoyment of wine, not intimidation.\u001b[39;49m\u001b[38;5;124;43m\"\u001b[39;49m\n\u001b[0;32m     15\u001b[0m \u001b[43m        \u001b[49m\u001b[43m}\u001b[49m\n\u001b[0;32m     16\u001b[0m \u001b[43m      \u001b[49m\u001b[43m]\u001b[49m\n\u001b[0;32m     17\u001b[0m \u001b[43m    \u001b[49m\u001b[43m}\u001b[49m\u001b[43m,\u001b[49m\n\u001b[0;32m     18\u001b[0m \u001b[43m    \u001b[49m\u001b[43m{\u001b[49m\n\u001b[0;32m     19\u001b[0m \u001b[43m      \u001b[49m\u001b[38;5;124;43m\"\u001b[39;49m\u001b[38;5;124;43mrole\u001b[39;49m\u001b[38;5;124;43m\"\u001b[39;49m\u001b[43m:\u001b[49m\u001b[43m \u001b[49m\u001b[38;5;124;43m\"\u001b[39;49m\u001b[38;5;124;43muser\u001b[39;49m\u001b[38;5;124;43m\"\u001b[39;49m\u001b[43m,\u001b[49m\n\u001b[0;32m     20\u001b[0m \u001b[43m      \u001b[49m\u001b[38;5;124;43m\"\u001b[39;49m\u001b[38;5;124;43mcontent\u001b[39;49m\u001b[38;5;124;43m\"\u001b[39;49m\u001b[43m:\u001b[49m\u001b[43m \u001b[49m\u001b[43m[\u001b[49m\n\u001b[0;32m     21\u001b[0m \u001b[43m        \u001b[49m\u001b[43m{\u001b[49m\n\u001b[0;32m     22\u001b[0m \u001b[43m          \u001b[49m\u001b[38;5;124;43m\"\u001b[39;49m\u001b[38;5;124;43mtype\u001b[39;49m\u001b[38;5;124;43m\"\u001b[39;49m\u001b[43m:\u001b[49m\u001b[43m \u001b[49m\u001b[38;5;124;43m\"\u001b[39;49m\u001b[38;5;124;43minput_text\u001b[39;49m\u001b[38;5;124;43m\"\u001b[39;49m\u001b[43m,\u001b[49m\n\u001b[0;32m     23\u001b[0m \u001b[43m          \u001b[49m\u001b[38;5;124;43m\"\u001b[39;49m\u001b[38;5;124;43mtext\u001b[39;49m\u001b[38;5;124;43m\"\u001b[39;49m\u001b[43m:\u001b[49m\u001b[43m \u001b[49m\u001b[38;5;124;43m\"\u001b[39;49m\u001b[38;5;124;43m이 와인을 간단하게 설명하고, 이 와인에 어울리는 요리를 추천해줘\u001b[39;49m\u001b[38;5;124;43m\"\u001b[39;49m\n\u001b[0;32m     24\u001b[0m \u001b[43m        \u001b[49m\u001b[43m}\u001b[49m\u001b[43m,\u001b[49m\n\u001b[0;32m     25\u001b[0m \u001b[43m        \u001b[49m\u001b[43m{\u001b[49m\n\u001b[0;32m     26\u001b[0m \u001b[43m          \u001b[49m\u001b[38;5;124;43m\"\u001b[39;49m\u001b[38;5;124;43mtype\u001b[39;49m\u001b[38;5;124;43m\"\u001b[39;49m\u001b[43m:\u001b[49m\u001b[43m \u001b[49m\u001b[38;5;124;43m\"\u001b[39;49m\u001b[38;5;124;43minput_image\u001b[39;49m\u001b[38;5;124;43m\"\u001b[39;49m\u001b[43m,\u001b[49m\n\u001b[0;32m     27\u001b[0m \u001b[43m          \u001b[49m\u001b[38;5;124;43m\"\u001b[39;49m\u001b[38;5;124;43mimage_url\u001b[39;49m\u001b[38;5;124;43m\"\u001b[39;49m\u001b[43m:\u001b[49m\u001b[43m \u001b[49m\u001b[38;5;124;43m\"\u001b[39;49m\u001b[38;5;124;43mhttps://images.vivino.com/thumbs/iE_y2NRLSWKWw--znVRE3Q_pb_x960.png\u001b[39;49m\u001b[38;5;124;43m\"\u001b[39;49m\n\u001b[0;32m     28\u001b[0m \u001b[43m        \u001b[49m\u001b[43m}\u001b[49m\n\u001b[0;32m     29\u001b[0m \u001b[43m      \u001b[49m\u001b[43m]\u001b[49m\n\u001b[0;32m     30\u001b[0m \u001b[43m    \u001b[49m\u001b[43m}\u001b[49m\n\u001b[0;32m     31\u001b[0m \u001b[43m  \u001b[49m\u001b[43m]\u001b[49m\u001b[43m,\u001b[49m\n\u001b[0;32m     32\u001b[0m \u001b[43m  \u001b[49m\u001b[43mtext\u001b[49m\u001b[38;5;241;43m=\u001b[39;49m\u001b[43m{\u001b[49m\n\u001b[0;32m     33\u001b[0m \u001b[43m    \u001b[49m\u001b[38;5;124;43m\"\u001b[39;49m\u001b[38;5;124;43mformat\u001b[39;49m\u001b[38;5;124;43m\"\u001b[39;49m\u001b[43m:\u001b[49m\u001b[43m \u001b[49m\u001b[43m{\u001b[49m\n\u001b[0;32m     34\u001b[0m \u001b[43m      \u001b[49m\u001b[38;5;124;43m\"\u001b[39;49m\u001b[38;5;124;43mtype\u001b[39;49m\u001b[38;5;124;43m\"\u001b[39;49m\u001b[43m:\u001b[49m\u001b[43m \u001b[49m\u001b[38;5;124;43m\"\u001b[39;49m\u001b[38;5;124;43mtext\u001b[39;49m\u001b[38;5;124;43m\"\u001b[39;49m\n\u001b[0;32m     35\u001b[0m \u001b[43m    \u001b[49m\u001b[43m}\u001b[49m\n\u001b[0;32m     36\u001b[0m \u001b[43m  \u001b[49m\u001b[43m}\u001b[49m\u001b[43m,\u001b[49m\n\u001b[0;32m     37\u001b[0m \u001b[43m  \u001b[49m\u001b[43mreasoning\u001b[49m\u001b[38;5;241;43m=\u001b[39;49m\u001b[43m{\u001b[49m\u001b[43m}\u001b[49m\u001b[43m,\u001b[49m\n\u001b[0;32m     38\u001b[0m \u001b[43m  \u001b[49m\u001b[43mtools\u001b[49m\u001b[38;5;241;43m=\u001b[39;49m\u001b[43m[\u001b[49m\u001b[43m]\u001b[49m\u001b[43m,\u001b[49m\n\u001b[0;32m     39\u001b[0m \u001b[43m  \u001b[49m\u001b[43mtemperature\u001b[49m\u001b[38;5;241;43m=\u001b[39;49m\u001b[38;5;241;43m1\u001b[39;49m\u001b[43m,\u001b[49m\n\u001b[0;32m     40\u001b[0m \u001b[43m  \u001b[49m\u001b[43mmax_output_tokens\u001b[49m\u001b[38;5;241;43m=\u001b[39;49m\u001b[38;5;241;43m2048\u001b[39;49m\u001b[43m,\u001b[49m\n\u001b[0;32m     41\u001b[0m \u001b[43m  \u001b[49m\u001b[43mtop_p\u001b[49m\u001b[38;5;241;43m=\u001b[39;49m\u001b[38;5;241;43m1\u001b[39;49m\u001b[43m,\u001b[49m\n\u001b[0;32m     42\u001b[0m \u001b[43m  \u001b[49m\u001b[43mstore\u001b[49m\u001b[38;5;241;43m=\u001b[39;49m\u001b[38;5;28;43;01mTrue\u001b[39;49;00m\n\u001b[0;32m     43\u001b[0m \u001b[43m)\u001b[49m\n",
      "File \u001b[1;32mc:\\Users\\Admin\\miniconda3\\envs\\lc_env\\Lib\\site-packages\\openai\\_utils\\_utils.py:286\u001b[0m, in \u001b[0;36mrequired_args.<locals>.inner.<locals>.wrapper\u001b[1;34m(*args, **kwargs)\u001b[0m\n\u001b[0;32m    284\u001b[0m         \u001b[38;5;28;01melse\u001b[39;00m:\n\u001b[0;32m    285\u001b[0m             msg \u001b[38;5;241m=\u001b[39m \u001b[38;5;124mf\u001b[39m\u001b[38;5;124m\"\u001b[39m\u001b[38;5;124mMissing required argument: \u001b[39m\u001b[38;5;132;01m{\u001b[39;00mquote(missing[\u001b[38;5;241m0\u001b[39m])\u001b[38;5;132;01m}\u001b[39;00m\u001b[38;5;124m\"\u001b[39m\n\u001b[1;32m--> 286\u001b[0m     \u001b[38;5;28;01mraise\u001b[39;00m \u001b[38;5;167;01mTypeError\u001b[39;00m(msg)\n\u001b[0;32m    287\u001b[0m \u001b[38;5;28;01mreturn\u001b[39;00m func(\u001b[38;5;241m*\u001b[39margs, \u001b[38;5;241m*\u001b[39m\u001b[38;5;241m*\u001b[39mkwargs)\n",
      "\u001b[1;31mTypeError\u001b[0m: Missing required arguments; Expected either ('messages' and 'model') or ('messages', 'model' and 'stream') arguments to be given"
     ]
    }
   ],
   "source": [
    "from openai import OpenAI\n",
    "client = OpenAI(api_key=OPENAI_API_KEY)\n",
    "\n",
    "# response = client.responses.create(\n",
    "response = client.chat.completions.create(\n",
    "  # model=\"gpt-4o\",\n",
    "  model=\"gpt-4.1\",\n",
    "  input=[\n",
    "    {\n",
    "      \"role\": \"system\",\n",
    "      \"content\": [\n",
    "        {\n",
    "          \"type\": \"input_text\",\n",
    "          \"text\": \"Persona:\\nYou are a professional wine sommelier named \\\"The Master Sommelier.\\\" You have extensive knowledge of global wines, food pairing principles, tasting techniques, and wine service etiquette. You are both an educator and a guide, able to adapt your explanations for beginners and wine experts alike.\\n\\nRole:\\nYour role is to provide thoughtful, accurate, and sensory-rich wine recommendations and explanations. Whether someone is asking for the right wine to pair with a dish, or wanting to understand tasting notes or varietal differences, you offer refined, yet accessible guidance. You use a warm, confident, and elegant tone in every interaction.\\n\\nCapabilities:\\n\\nRecommend wine pairings based on dish type, ingredients, preparation, and occasion\\n\\nBreak down wine tasting notes: aroma, palate, body, acidity, tannins, finish\\n\\nCompare wine varietals, styles, and regions with clarity and nuance\\n\\nSuggest ideal serving temperature, glassware, or decanting method\\n\\nAdapt communication style based on the user's experience level\\n\\nConstraints:\\nAvoid overly technical jargon unless requested. Keep language elegant yet easy to understand. Promote curiosity and enjoyment of wine, not intimidation.\"\n",
    "        }\n",
    "      ]\n",
    "    },\n",
    "    {\n",
    "      \"role\": \"user\",\n",
    "      \"content\": [\n",
    "        {\n",
    "          \"type\": \"input_text\",\n",
    "          \"text\": \"이 와인을 간단하게 설명하고, 이 와인에 어울리는 요리를 추천해줘\"\n",
    "        },\n",
    "        {\n",
    "          \"type\": \"input_image\",\n",
    "          \"image_url\": \"https://images.vivino.com/thumbs/iE_y2NRLSWKWw--znVRE3Q_pb_x960.png\"\n",
    "        }\n",
    "      ]\n",
    "    }\n",
    "  ],\n",
    "  text={\n",
    "    \"format\": {\n",
    "      \"type\": \"text\"\n",
    "    }\n",
    "  },\n",
    "  reasoning={},\n",
    "  tools=[],\n",
    "  temperature=1,\n",
    "  max_output_tokens=2048,\n",
    "  top_p=1,\n",
    "  store=True\n",
    ")"
   ]
  },
  {
   "cell_type": "code",
   "execution_count": 7,
   "id": "bd348e37",
   "metadata": {},
   "outputs": [
    {
     "name": "stdout",
     "output_type": "stream",
     "text": [
      "네, 아주 좋은 선택입니다!\n",
      "\n",
      "**와인 설명:**  \n",
      "이 와인은 **Jakob Schneider Niederhäuser Felsensteyer Riesling Trocken**입니다. 독일의 나헤(Nahe) 지역에서 생산된 드라이(즉, 'Trocken') 리슬링으로, 신선한 산미와 미네랄리티가 돋보입니다.  \n",
      "향에서는 레몬, 라임, 잘 익은 사과, 흰 꽃, 그리고 약간의 백후추와 같은 섬세한 향신료가 느껴집니다. 맛은 경쾌하고 깨끗하며, 입안에서 긴 미네랄의 여운을 남깁니다. 바디는 가볍고, 산도는 높아서 매우 상쾌하게 즐길 수 있는 스타일입니다.\n",
      "\n",
      "**어울리는 요리:**  \n",
      "이 리슬링은 강한 산미와 미네랄리티 덕분에 다양한 음식과 잘 어울리는데, 특별히 추천드리는 조합은 다음과 같습니다.\n",
      "\n",
      "- **생선 요리:**  \n",
      "  레몬을 뿌린 흰살 생선구이, 스시, 회, 훈제연어  \n",
      "- **해산물:**  \n",
      "  굴, 새우, 조개, 가리비 등 신선한 해산물  \n",
      "- **아시안 요리:**  \n",
      "  약간 매콤하거나 향신료가 들어간 태국, 베트남 요리(예: 팟타이, 월남쌈)  \n",
      "- **가벼운 샐러드:**  \n",
      "  새콤달콤한 드레싱이 들어간 샐러드, 치킨 샐러드  \n",
      "- **치즈:**  \n",
      "  산도가 높고 시큼한 염소치즈(쉬브르)\n",
      "\n",
      "산뜻한 와인이라 기름진 음식이나 매콤한 요리와도 균형이 잘 어울립니다.  \n",
      "특히, '굴 & 리슬링' 조합은 명불허전입니다!\n",
      "\n",
      "즐거운 와인 경험 되세요.  \n",
      "혹시 더 궁금한 점이 있으시면 언제든 말씀해 주세요.\n"
     ]
    }
   ],
   "source": [
    "print(response.output[0].content[0].text)"
   ]
  },
  {
   "cell_type": "markdown",
   "id": "3522c8d1",
   "metadata": {},
   "source": [
    "# 함수로 정의"
   ]
  },
  {
   "cell_type": "code",
   "execution_count": 2,
   "id": "4daf6797",
   "metadata": {},
   "outputs": [],
   "source": [
    "def recommand_dishes(query):\n",
    "    from openai import OpenAI\n",
    "    client = OpenAI(api_key=OPENAI_API_KEY)\n",
    "\n",
    "    response = client.responses.create(\n",
    "    # model=\"gpt-4o\",\n",
    "    model=\"gpt-4.1\",\n",
    "    input=[\n",
    "        {\n",
    "        \"role\": \"system\",\n",
    "        \"content\": [\n",
    "            {\n",
    "            \"type\": \"input_text\",\n",
    "            \"text\": \"Persona:\\nYou are a professional wine sommelier named \\\"The Master Sommelier.\\\" You have extensive knowledge of global wines, food pairing principles, tasting techniques, and wine service etiquette. You are both an educator and a guide, able to adapt your explanations for beginners and wine experts alike.\\n\\nRole:\\nYour role is to provide thoughtful, accurate, and sensory-rich wine recommendations and explanations. Whether someone is asking for the right wine to pair with a dish, or wanting to understand tasting notes or varietal differences, you offer refined, yet accessible guidance. You use a warm, confident, and elegant tone in every interaction.\\n\\nCapabilities:\\n\\nRecommend wine pairings based on dish type, ingredients, preparation, and occasion\\n\\nBreak down wine tasting notes: aroma, palate, body, acidity, tannins, finish\\n\\nCompare wine varietals, styles, and regions with clarity and nuance\\n\\nSuggest ideal serving temperature, glassware, or decanting method\\n\\nAdapt communication style based on the user's experience level\\n\\nConstraints:\\nAvoid overly technical jargon unless requested. Keep language elegant yet easy to understand. Promote curiosity and enjoyment of wine, not intimidation.\"\n",
    "            }\n",
    "        ]\n",
    "        },\n",
    "        {\n",
    "        \"role\": \"user\",\n",
    "        \"content\": [\n",
    "            {\n",
    "            \"type\": \"input_text\",\n",
    "            \"text\": query.get('user_text')\n",
    "            },\n",
    "            {\n",
    "            \"type\": \"input_image\",\n",
    "            \"image_url\": query.get('image_url')\n",
    "            }\n",
    "        ]\n",
    "        }\n",
    "    ],\n",
    "    text={\n",
    "        \"format\": {\n",
    "        \"type\": \"text\"\n",
    "        }\n",
    "    },\n",
    "    reasoning={},\n",
    "    tools=[],\n",
    "    temperature=1,\n",
    "    max_output_tokens=2048,\n",
    "    top_p=1,\n",
    "    store=True\n",
    "    )\n",
    "\n",
    "    # 결과 리턴\n",
    "    return response.output[0].content[0].text\n",
    "    "
   ]
  },
  {
   "cell_type": "markdown",
   "id": "37e279ac",
   "metadata": {},
   "source": [
    "# LCEL 문법으로 처리"
   ]
  },
  {
   "cell_type": "code",
   "execution_count": 4,
   "id": "5c014b94",
   "metadata": {},
   "outputs": [
    {
     "data": {
      "text/plain": [
       "'아주 좋은 선택을 하셨습니다!  \\n이 와인은 **Jakob Schneider Niederhäuser Felsensteyer Riesling Trocken**입니다.\\n\\n### 와인 간단 설명  \\n- **생산자:** Jakob Schneider  \\n- **지역:** 독일, 나에 (Nahe)  \\n- **품종:** 리슬링(Riesling)  \\n- **스타일:** 드라이(트로켄, trocken: 독일어로 ‘드라이(건조)’를 의미합니다)\\n\\n이 와인은 깨끗하고 신선하며, 리슬링 특유의 시트러스(레몬과 라임), 초록 사과, 미네랄리티(약간의 젖은 돌 느낌)와 흰 꽃 향기가 어우러진 스타일입니다. 입안에서는 경쾌한 산미와 미세한 텍스처, 그리고 상쾌한 피니시가 특징입니다. 드라이 리슬링은 달지 않아서 아주 깔끔하게 마무리됩니다.\\n\\n---\\n\\n### 어울리는 요리 추천  \\n이 와인은 상큼하고 미네랄한 특성 덕분에 음식과 폭넓게 잘 어울립니다.\\n\\n1. **해산물 요리**  \\n   - 굴, 새우 칵테일, 가리비 카르파초 등  \\n   - 신선한 회 또는 섬세한 흰살 생선 요리\\n2. **아시아 요리**  \\n   - 가볍게 매콤한 태국 요리(예: 똠얌꿍)나 베트남식 볶음\\n3. **화이트 치킨 메뉴**  \\n   - 레몬이나 허브를 곁들인 닭가슴살 구이\\n4. **채소 중심 요리**  \\n   - 아스파라거스 혹은 봄나물 샐러드\\n\\n간단하게 차갑게(8~10도) 서빙하면, 와인의 청량함이 더 잘 살아납니다.  \\n이렇게 상큼하고 미네랄리티가 살아있는 드라이 리슬링은 특히 음식과 어우러질 때 그 진가가 발휘됩니다.  \\n즐거운 식사와 와인 타임 되시길 바랍니다!'"
      ]
     },
     "execution_count": 4,
     "metadata": {},
     "output_type": "execute_result"
    }
   ],
   "source": [
    "input_data = {\n",
    "    \"user_text\" : \"이 와인을 간단하게 설명하고, 이 와인에 어울리는 요리를 추천해줘\",\n",
    "    \"image_url\" : \"https://images.vivino.com/thumbs/iE_y2NRLSWKWw--znVRE3Q_pb_x960.png\"\n",
    "}\n",
    "\n",
    "# 함수 호출부\n",
    "recommand_dishes(input_data)"
   ]
  },
  {
   "cell_type": "markdown",
   "id": "814435a5",
   "metadata": {},
   "source": [
    "# RunnableLambda로 실행\n",
    "- 일반 함수를 LCEL 문법에서 사용할 수 있도록 하기 위해 wrapping"
   ]
  },
  {
   "cell_type": "code",
   "execution_count": 3,
   "id": "486fd9f6",
   "metadata": {},
   "outputs": [],
   "source": [
    "from langchain_core.runnables import RunnableLambda\n",
    "from langchain_core.output_parsers import StrOutputParser\n",
    "\n",
    "# 일반함수를 LCEL 문법에 적용하기 위해 RunnableLambda 객체변수로 만듬\n",
    "r1 = RunnableLambda(recommand_dishes)\n",
    "\n",
    "# LCEL chain 객체 생성\n",
    "chain = r1 | StrOutputParser()"
   ]
  },
  {
   "cell_type": "markdown",
   "id": "5a3d4cf3",
   "metadata": {},
   "source": [
    "# chain 객체를 통해 실행"
   ]
  },
  {
   "cell_type": "code",
   "execution_count": 4,
   "id": "25ee9c11",
   "metadata": {},
   "outputs": [],
   "source": [
    "input_data = {\n",
    "    \"user_text\" : \"이 와인을 간단하게 설명하고, 이 와인에 어울리는 요리를 추천해줘\",\n",
    "    \"image_url\" : \"https://images.vivino.com/thumbs/iE_y2NRLSWKWw--znVRE3Q_pb_x960.png\"\n",
    "}\n",
    "\n",
    "res = chain.invoke(input_data)"
   ]
  },
  {
   "cell_type": "code",
   "execution_count": 5,
   "id": "b26ed63f",
   "metadata": {},
   "outputs": [
    {
     "name": "stdout",
     "output_type": "stream",
     "text": [
      "물론이죠!  \n",
      "이 와인은 **Jakob Schneider Niederhäuser Felsensteyer Riesling Trocken**입니다.\n",
      "\n",
      "### 간단한 설명\n",
      "- **생산지:** 독일 나헤(Nahe) 지역  \n",
      "- **품종:** 리슬링(Riesling)  \n",
      "- **스타일:** Trocken(트로켄)은 \"드라이(건조)\"를 의미합니다.  \n",
      "- **특징:**  \n",
      "  - 상큼하고 생생한 산도가 돋보이며, 레몬, 라임, 사과, 복숭아 등 맑고 깨끗한 과일향이 주를 이룹니다.\n",
      "  - 미네랄리티가 강하며, 청량한 느낌과 섬세한 구조가 특징입니다.\n",
      "  - 알코올 도수가 비교적 낮고, 입안에서 깔끔한 마무리가 인상적입니다.\n",
      "\n",
      "---\n",
      "\n",
      "### 어울리는 요리 추천\n",
      "\n",
      "**1. 해산물 요리**\n",
      "- 섬세한 산미와 미네랄리티가 어패류, 굴, 새우, 갑각류와 완벽하게 어울립니다.\n",
      "- 예시: **굴, 새우 칵테일, 소금구이 오징어, 흰살생선(스팀 혹은 구이)**\n",
      "\n",
      "**2. 아시아 음식**\n",
      "- 드라이한 리슬링은 산미와 함께 가벼운 스파이스, 허브향이 어우러진 중화, 태국, 베트남 요리와도 잘 맞습니다.\n",
      "- 예시: **스프링롤, 월남쌈, 레몬그라스 치킨, 양상추 쌈**\n",
      "\n",
      "**3. 가벼운 돼지고기/닭고기 요리**\n",
      "- 산미 덕분에 지방기가 약간 있는 음식과도 조화롭습니다.\n",
      "- 예시: **돼지고기 탕수육, 구운 닭가슴살 샐러드**\n",
      "\n",
      "**4. 신선한 샐러드**\n",
      "- 산뜻함이 샐러드의 채소와 허브향을 살려줍니다.\n",
      "\n",
      "---\n",
      "\n",
      "### 페어링 팁  \n",
      "**차갑게(7~9°C) 서빙**하면 산뜻함이 배가됩니다. 가벼운 유리잔(화이트 와인 글라스)을 추천드립니다.\n",
      "\n",
      "필요하신 더 상세한 조합이나 설명이 필요하시면 언제든 말씀해주세요!\n"
     ]
    }
   ],
   "source": [
    "print(res)"
   ]
  },
  {
   "cell_type": "code",
   "execution_count": null,
   "id": "9683435e",
   "metadata": {},
   "outputs": [],
   "source": []
  }
 ],
 "metadata": {
  "kernelspec": {
   "display_name": "lc_env",
   "language": "python",
   "name": "python3"
  },
  "language_info": {
   "codemirror_mode": {
    "name": "ipython",
    "version": 3
   },
   "file_extension": ".py",
   "mimetype": "text/x-python",
   "name": "python",
   "nbconvert_exporter": "python",
   "pygments_lexer": "ipython3",
   "version": "3.12.11"
  }
 },
 "nbformat": 4,
 "nbformat_minor": 5
}
